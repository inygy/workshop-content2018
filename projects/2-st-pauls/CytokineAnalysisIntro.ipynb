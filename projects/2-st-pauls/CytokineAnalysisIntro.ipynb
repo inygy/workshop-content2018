{
 "cells": [
  {
   "cell_type": "markdown",
   "metadata": {},
   "source": [
    "# Cytokine Dataset Analysis"
   ]
  },
  {
   "cell_type": "markdown",
   "metadata": {},
   "source": [
    "From the project description: \n",
    "\n",
    "\"Part of the set is a list of patients blood work measurements (cytokine levels).  These data are in a straightforward CSV file.\n",
    "\n",
    "The other part of the dataset is genomic data of the patients.  These data are large collections of SNP markers on the patients' genomes and are represented in plink format, a common format for genome studies. \n",
    "\n",
    "Finally, there is a genome reference online that indicates what is known about each SNP marker.\n",
    "\n",
    "There are about 330 patients, perhaps 40 cytokine markers, and entire genomes worth of data for each patient.  The challenge is to find patterns of SNPs (genotypes) that beget particular cytokine levels (phenotypes).\""
   ]
  },
  {
   "cell_type": "markdown",
   "metadata": {},
   "source": [
    "## Prereadings\n",
    "There were two papers provided as prereadings. I suggest you read both of them, this section in no way replaces the readings. I will point out some areas which I think merit special attention. \n",
    "\n",
    "\n",
    "### Genome-wide  association  study  of  survival  from  sepsis  due  to  pneumonia:  an  observational  cohort  study \n",
    "#### Introduction\n",
    "Mostly motivating the analysis, no technical details. As the paper states the goal of this paper is \"identifying  genetic  variations  associated  with  sepsis  survival.\"\n",
    "\n",
    "#### Methods\n",
    "Notice that in this paper they use 4 cohorts, we are only using the Vasopressin  in  Septic  Shock  Trial data (VASST) (cohort 2). It gives some info about the dataset \"patients  with  septic  shock  were  recruited  between  July  1,  2001,  and  April  30,  2006,  and  randomly  assigned    to  receive  either  low-dose  vasopressin  or  norepinephrine.\" More info on the dataset specifics can be found in the other paper.\n",
    "\n",
    "In procedures they say \"We  applied  stringent  measures  of  quality  control  to  remove  unreliably  genotyped  samples  and  SNPs,  population  outliers  as  determined  by  multidimensional  scaling  of  the  genome-wide  data,  and  samples  for  which  there  were  sex  discrepancies.  The  appendix  details  the  samples  excluded  from  every  genome-wide  dataset.\" we are not sure if this has been done on the dataset we have, something worth considering.\n",
    "\n",
    "More info about our dataset:\n",
    "\"The  number  of  autosomal  SNPs  remaining  for  imputation  were: 936  437  (VASST;  Illumina  Human  1M-Duo  BeadChip  SNP  array).\"\n",
    "\n",
    "\"All  GWAS  datasets  were  imputed separately  with  IMPUTE2  and  with  1000  Genomes  Project  data  as  a  reference  panel\" https://en.wikipedia.org/wiki/Imputation_(genetics)\n",
    "\n",
    "In the diagram on page 55 pay special attention to cohort two (the one we are working with). Our dataset does not include the samples excluded due to phenotype or genotyping QC.\n",
    "\n",
    "#### Results\n",
    "\"the  most  significant  association  with  28  day  survival  for  a  SNP  in  chromosome  5  (rs4957796)  in  an  intron  of  the  FER  gene\" this would be a good target for your initial analysis or to confirm that your methods are consistent with the paper's findings.\n",
    "\n",
    "\"The  second  locus  that  showed  evidence  of  association  in  all  four  cohorts  (rs79423885),  although  not  achieving  even  the  less  conservative  genome-wide  significance  threshold ...  is  located  in  chromosome  6,  in  a  so-called  gene  desert  without  any  annotated  nearby  functional  elements  (appendix).  Genotyping  the  remaining  SNPs  in  the  additional  cohort  did  not  support  an  association\"\n",
    "\n",
    "\"Considering  the  follow-up  of  GenOSept  and  GAinS  patients  to  6  months ...  the  effect  of  genotype  decreased  with  time,  there  being  a  significant  interaction  between  the  effect  of  genotype  and  time.\"\n",
    " \n",
    "\"The  decreased  risk  of  death  associated  with  the  C  allele  was  apparent  in  all  four  cohorts  (appendix).  Mortality  was  9·5%  in  patients  carrying  the  CC  genotype,  15·2%  in  those  carrying  the  TC  genotype,  and  25·3%  in  those  carrying  the  TT  genotype  (appendix).\"\n",
    "\n",
    "#### Discussion\n",
    "\"The  effect  of  the  most  significantly  associated  variant  in  FER,  rs4957796,  is  unusually  strong:  when  patients  are  stratified  based  on  genotype,  mortality  decreases  from  about  25%  in  wild-type  homozygous  (TT)  patients  to  15%  in  carriers  of  one  copy  of  the  minor  C  allele  and  is  further  reduced  to  10%  in  individuals  who  are  homozygous  for  the  C  allele.\"\n",
    "\n",
    "\"Although  the  most  significantly  associated  SNP  is  located  in  the  intronic  region  of  FER,  the  region  of  association  spans  several  coding  exons.\"\n",
    "\n",
    "### Vasopressin  versus  Norepinephrine  Infusion  in  Patients  with  Septic  Shock\n",
    "This paper is where the Vasopressin and Septic Shock Trial (VASST) cohort comes from, it contains a more in depth explanation of the origins of the dataset.\n",
    "The VASST dataset had 778 patients in it however, the initial Cohort 2 VASST dataset we see being used in the previous paper had 632 patients. Possibly ask the mentor for this dataset about this discrepancy."
   ]
  },
  {
   "cell_type": "markdown",
   "metadata": {},
   "source": [
    "## Preparing the Dataset"
   ]
  },
  {
   "cell_type": "markdown",
   "metadata": {},
   "source": [
    "The data is in a PLINK file format, this is typical for genetics data. We will convert to a format that is easier for analysis so you do not need to know how to work with PLINK. We are doing the conversion with [pandas-plink](https://pandas-plink.readthedocs.io/en/stable/)"
   ]
  },
  {
   "cell_type": "code",
   "execution_count": 13,
   "metadata": {},
   "outputs": [],
   "source": [
    "%%capture plinkInstallOutput\n",
    "# install pandas-plink to convert the plink file to something more useable\n",
    "!pip install pandas-plink --user;"
   ]
  },
  {
   "cell_type": "markdown",
   "metadata": {},
   "source": [
    "### PLINK files\n",
    "We are going to read the PLINK files into bim, fam and G"
   ]
  },
  {
   "cell_type": "code",
   "execution_count": 14,
   "metadata": {},
   "outputs": [
    {
     "name": "stderr",
     "output_type": "stream",
     "text": [
      "Mapping files: 100%|██████████| 3/3 [00:06<00:00,  2.98s/it]\n"
     ]
    }
   ],
   "source": [
    "from pandas_plink import read_plink\n",
    "(bim, fam, G) = read_plink('RogerDonaldson-VASST2', verbose=True)"
   ]
  },
  {
   "cell_type": "markdown",
   "metadata": {},
   "source": [
    "### bim\n",
    "bim is one of the PLINK files. pandas-plink has converted it to a pandas dataframe named bim \n",
    "\n",
    "#### Columns\n",
    "\n",
    "chrom,     Chromosome code (aka Chromosome Number) (integer type)\n",
    "\n",
    "snp,     [Single nucleotide polymorphisms](https://ghr.nlm.nih.gov/primer/genomicresearch/snp) (pronounced snips) \n",
    "\n",
    "cm,      SNP genetic position (float type)\n",
    "\n",
    "pos,     SNP physical position (usually called bp aka base pair coordinate) (integer type)\n",
    "\n",
    "\"This file should have L lines and 4 columns, where L is\n",
    "the number of SNPs contained in the dataset.\"\n",
    "You'll notice this one has an additional a0 and a1 column (in the literature these are sometimes referred to as a1 and a2):\n",
    "\n",
    " a0, an allele\n",
    " \n",
    " a1, another allele"
   ]
  },
  {
   "cell_type": "code",
   "execution_count": 15,
   "metadata": {},
   "outputs": [
    {
     "name": "stdout",
     "output_type": "stream",
     "text": [
      "<class 'pandas.core.frame.DataFrame'>\n",
      "RangeIndex: 1145510 entries, 0 to 1145509\n",
      "Data columns (total 7 columns):\n",
      "chrom    1145510 non-null category\n",
      "snp      1145510 non-null object\n",
      "cm       1145510 non-null float64\n",
      "pos      1145510 non-null int64\n",
      "a0       1145510 non-null category\n",
      "a1       1145510 non-null category\n",
      "i        1145510 non-null int64\n",
      "dtypes: category(3), float64(1), int64(2), object(1)\n",
      "memory usage: 38.2+ MB\n"
     ]
    }
   ],
   "source": [
    "bim.info()"
   ]
  },
  {
   "cell_type": "code",
   "execution_count": 16,
   "metadata": {},
   "outputs": [
    {
     "data": {
      "text/html": [
       "<div>\n",
       "<style scoped>\n",
       "    .dataframe tbody tr th:only-of-type {\n",
       "        vertical-align: middle;\n",
       "    }\n",
       "\n",
       "    .dataframe tbody tr th {\n",
       "        vertical-align: top;\n",
       "    }\n",
       "\n",
       "    .dataframe thead th {\n",
       "        text-align: right;\n",
       "    }\n",
       "</style>\n",
       "<table border=\"1\" class=\"dataframe\">\n",
       "  <thead>\n",
       "    <tr style=\"text-align: right;\">\n",
       "      <th></th>\n",
       "      <th>chrom</th>\n",
       "      <th>snp</th>\n",
       "      <th>cm</th>\n",
       "      <th>pos</th>\n",
       "      <th>a0</th>\n",
       "      <th>a1</th>\n",
       "      <th>i</th>\n",
       "    </tr>\n",
       "  </thead>\n",
       "  <tbody>\n",
       "    <tr>\n",
       "      <th>0</th>\n",
       "      <td>1</td>\n",
       "      <td>rs12354060</td>\n",
       "      <td>0.0</td>\n",
       "      <td>10004</td>\n",
       "      <td>0</td>\n",
       "      <td>G</td>\n",
       "      <td>0</td>\n",
       "    </tr>\n",
       "    <tr>\n",
       "      <th>1</th>\n",
       "      <td>1</td>\n",
       "      <td>rs4345758</td>\n",
       "      <td>0.0</td>\n",
       "      <td>28663</td>\n",
       "      <td>0</td>\n",
       "      <td>A</td>\n",
       "      <td>1</td>\n",
       "    </tr>\n",
       "    <tr>\n",
       "      <th>2</th>\n",
       "      <td>1</td>\n",
       "      <td>rs2691310</td>\n",
       "      <td>0.0</td>\n",
       "      <td>46844</td>\n",
       "      <td>0</td>\n",
       "      <td>0</td>\n",
       "      <td>2</td>\n",
       "    </tr>\n",
       "    <tr>\n",
       "      <th>3</th>\n",
       "      <td>1</td>\n",
       "      <td>rs2531266</td>\n",
       "      <td>0.0</td>\n",
       "      <td>59415</td>\n",
       "      <td>0</td>\n",
       "      <td>0</td>\n",
       "      <td>3</td>\n",
       "    </tr>\n",
       "    <tr>\n",
       "      <th>4</th>\n",
       "      <td>1</td>\n",
       "      <td>rs4477212</td>\n",
       "      <td>0.0</td>\n",
       "      <td>72017</td>\n",
       "      <td>0</td>\n",
       "      <td>A</td>\n",
       "      <td>4</td>\n",
       "    </tr>\n",
       "  </tbody>\n",
       "</table>\n",
       "</div>"
      ],
      "text/plain": [
       "  chrom         snp   cm    pos a0 a1  i\n",
       "0     1  rs12354060  0.0  10004  0  G  0\n",
       "1     1   rs4345758  0.0  28663  0  A  1\n",
       "2     1   rs2691310  0.0  46844  0  0  2\n",
       "3     1   rs2531266  0.0  59415  0  0  3\n",
       "4     1   rs4477212  0.0  72017  0  A  4"
      ]
     },
     "execution_count": 16,
     "metadata": {},
     "output_type": "execute_result"
    }
   ],
   "source": [
    "bim.head()"
   ]
  },
  {
   "cell_type": "markdown",
   "metadata": {},
   "source": [
    "### fam\n",
    "\n",
    "fam is one of the PLINK files. pandas-plink has converted it to a pandas dataframe named fam\n",
    "\n",
    "fid,     Family ID (string type)\n",
    "\n",
    "iid,     Individual ID (is it all ones? can we delete?) (string type)\n",
    "\n",
    "father, '0' if father isn't in dataset (string type)\n",
    "\n",
    "mother, '0' if mother isn't in dataset) (string type)\n",
    "\n",
    "gender, '1' = male, '2' = female, '0' = unknown (integer type)\n",
    "\n",
    "trait, the phenotype (type float)\n",
    "\n",
    "\"Columns 7 & 8 code for the observed alleles at SNP1, columns 9 &\n",
    "10 code for the observed alleles at SNP2, and so on. Missing data\n",
    "are coded as \"0 0\" as for example for SNP3 of IND1. This file should\n",
    "have N lines and 2L+6 columns, where N and L are the numbers of\n",
    "individuals and SNPs contained in the dataset respectively.\" \n",
    "You'll notice this fam file only has 6 columns (and i the index), for some reason the alleles are in the bim file rather than the fam file."
   ]
  },
  {
   "cell_type": "code",
   "execution_count": 17,
   "metadata": {},
   "outputs": [
    {
     "name": "stdout",
     "output_type": "stream",
     "text": [
      "<class 'pandas.core.frame.DataFrame'>\n",
      "RangeIndex: 1264 entries, 0 to 1263\n",
      "Data columns (total 7 columns):\n",
      "fid       1264 non-null object\n",
      "iid       1264 non-null object\n",
      "father    1264 non-null object\n",
      "mother    1264 non-null object\n",
      "gender    1264 non-null category\n",
      "trait     1264 non-null object\n",
      "i         1264 non-null int64\n",
      "dtypes: category(1), int64(1), object(5)\n",
      "memory usage: 60.7+ KB\n"
     ]
    }
   ],
   "source": [
    "fam.info()"
   ]
  },
  {
   "cell_type": "code",
   "execution_count": 18,
   "metadata": {},
   "outputs": [
    {
     "data": {
      "text/html": [
       "<div>\n",
       "<style scoped>\n",
       "    .dataframe tbody tr th:only-of-type {\n",
       "        vertical-align: middle;\n",
       "    }\n",
       "\n",
       "    .dataframe tbody tr th {\n",
       "        vertical-align: top;\n",
       "    }\n",
       "\n",
       "    .dataframe thead th {\n",
       "        text-align: right;\n",
       "    }\n",
       "</style>\n",
       "<table border=\"1\" class=\"dataframe\">\n",
       "  <thead>\n",
       "    <tr style=\"text-align: right;\">\n",
       "      <th></th>\n",
       "      <th>fid</th>\n",
       "      <th>iid</th>\n",
       "      <th>father</th>\n",
       "      <th>mother</th>\n",
       "      <th>gender</th>\n",
       "      <th>trait</th>\n",
       "      <th>i</th>\n",
       "    </tr>\n",
       "  </thead>\n",
       "  <tbody>\n",
       "    <tr>\n",
       "      <th>0</th>\n",
       "      <td>VB0004</td>\n",
       "      <td>1</td>\n",
       "      <td>0</td>\n",
       "      <td>0</td>\n",
       "      <td>2</td>\n",
       "      <td>2</td>\n",
       "      <td>0</td>\n",
       "    </tr>\n",
       "    <tr>\n",
       "      <th>1</th>\n",
       "      <td>VB0007</td>\n",
       "      <td>1</td>\n",
       "      <td>0</td>\n",
       "      <td>0</td>\n",
       "      <td>1</td>\n",
       "      <td>1</td>\n",
       "      <td>1</td>\n",
       "    </tr>\n",
       "    <tr>\n",
       "      <th>2</th>\n",
       "      <td>VB0010</td>\n",
       "      <td>1</td>\n",
       "      <td>0</td>\n",
       "      <td>0</td>\n",
       "      <td>1</td>\n",
       "      <td>2</td>\n",
       "      <td>2</td>\n",
       "    </tr>\n",
       "    <tr>\n",
       "      <th>3</th>\n",
       "      <td>VB0014</td>\n",
       "      <td>1</td>\n",
       "      <td>0</td>\n",
       "      <td>0</td>\n",
       "      <td>2</td>\n",
       "      <td>2</td>\n",
       "      <td>3</td>\n",
       "    </tr>\n",
       "    <tr>\n",
       "      <th>4</th>\n",
       "      <td>VB0020</td>\n",
       "      <td>1</td>\n",
       "      <td>0</td>\n",
       "      <td>0</td>\n",
       "      <td>2</td>\n",
       "      <td>1</td>\n",
       "      <td>4</td>\n",
       "    </tr>\n",
       "  </tbody>\n",
       "</table>\n",
       "</div>"
      ],
      "text/plain": [
       "      fid iid father mother gender trait  i\n",
       "0  VB0004   1      0      0      2     2  0\n",
       "1  VB0007   1      0      0      1     1  1\n",
       "2  VB0010   1      0      0      1     2  2\n",
       "3  VB0014   1      0      0      2     2  3\n",
       "4  VB0020   1      0      0      2     1  4"
      ]
     },
     "execution_count": 18,
     "metadata": {},
     "output_type": "execute_result"
    }
   ],
   "source": [
    "fam.head()"
   ]
  },
  {
   "cell_type": "markdown",
   "metadata": {},
   "source": [
    "### BED\n",
    "Binary PED (BED) files. The PLINK binary biallelic genotype table.\n",
    "To verify integrity, the first three bytes should be 0x6c, 0x1b, 0x01 in that order.\n",
    "The rest of the file is a sequence of V blocks of N/4 (rounded up) bytes each, where V is the number of variants and N is the number of samples. See [here](https://www.cog-genomics.org/plink2/formats#bed) for more info on BED files.\n",
    "\n",
    "We convert the bed PLINK file to the DASK file G. you can read more about DASK [here](https://dask.pydata.org/en/latest/docs.html). For now you can think of it like an improved pandas dataframe or numpy array (it works with the same syntax).\n",
    "The i column in the bed and fam files maps to the corresponding position of the bed matrix.\n",
    "\"The values of the bed matrix denote how many alleles a1 (see output of data frame bim) are in the corresponding position and individual. Notice the column i in bim and fam data frames. It maps to the corresponding position of the bed matrix.\""
   ]
  },
  {
   "cell_type": "code",
   "execution_count": 19,
   "metadata": {},
   "outputs": [
    {
     "data": {
      "text/plain": [
       "(1145510, 1264)"
      ]
     },
     "execution_count": 19,
     "metadata": {},
     "output_type": "execute_result"
    }
   ],
   "source": [
    "# Dimensions of G\n",
    "G.shape\n",
    "# notice how these dimensions work out perfectly for matrix multiplication with fam and bim"
   ]
  },
  {
   "cell_type": "code",
   "execution_count": 20,
   "metadata": {},
   "outputs": [
    {
     "data": {
      "text/plain": [
       "11583397120"
      ]
     },
     "execution_count": 20,
     "metadata": {},
     "output_type": "execute_result"
    }
   ],
   "source": [
    "# how many bytes G needs (will it be too large for memory?)\n",
    "G.nbytes"
   ]
  },
  {
   "cell_type": "code",
   "execution_count": 21,
   "metadata": {},
   "outputs": [
    {
     "data": {
      "text/plain": [
       "dtype('int64')"
      ]
     },
     "execution_count": 21,
     "metadata": {},
     "output_type": "execute_result"
    }
   ],
   "source": [
    "# data type\n",
    "G.dtype"
   ]
  },
  {
   "cell_type": "markdown",
   "metadata": {},
   "source": [
    "Almost 12GB of data, it will probably crash if we try to load it all at once. "
   ]
  },
  {
   "cell_type": "code",
   "execution_count": 22,
   "metadata": {},
   "outputs": [
    {
     "name": "stdout",
     "output_type": "stream",
     "text": [
      "MemTotal:       32946616 kB\r\n",
      "MemFree:          772600 kB\r\n",
      "MemAvailable:   10899580 kB\r\n",
      "Buffers:            2088 kB\r\n",
      "Cached:         10853792 kB\r\n",
      "SwapCached:            0 kB\r\n",
      "Active:         16052632 kB\r\n",
      "Inactive:        3446276 kB\r\n",
      "Active(anon):    9422004 kB\r\n",
      "Inactive(anon):   429380 kB\r\n",
      "Active(file):    6630628 kB\r\n",
      "Inactive(file):  3016896 kB\r\n",
      "Unevictable:           0 kB\r\n",
      "Mlocked:               0 kB\r\n",
      "SwapTotal:             0 kB\r\n",
      "SwapFree:              0 kB\r\n",
      "Dirty:                 0 kB\r\n",
      "Writeback:             0 kB\r\n",
      "AnonPages:       8645272 kB\r\n",
      "Mapped:           262736 kB\r\n",
      "Shmem:           1208356 kB\r\n",
      "Slab:            4846912 kB\r\n",
      "SReclaimable:     732872 kB\r\n",
      "SUnreclaim:      4114040 kB\r\n",
      "KernelStack:       36768 kB\r\n",
      "PageTables:       108176 kB\r\n",
      "NFS_Unstable:          0 kB\r\n",
      "Bounce:                0 kB\r\n",
      "WritebackTmp:          0 kB\r\n",
      "CommitLimit:    16473308 kB\r\n",
      "Committed_AS:   32578760 kB\r\n",
      "VmallocTotal:   34359738367 kB\r\n",
      "VmallocUsed:           0 kB\r\n",
      "VmallocChunk:          0 kB\r\n",
      "HardwareCorrupted:     0 kB\r\n",
      "AnonHugePages:   1882112 kB\r\n",
      "HugePages_Total:       0\r\n",
      "HugePages_Free:        0\r\n",
      "HugePages_Rsvd:        0\r\n",
      "HugePages_Surp:        0\r\n",
      "Hugepagesize:       2048 kB\r\n",
      "DirectMap4k:    10729340 kB\r\n",
      "DirectMap2M:    22824960 kB\r\n",
      "DirectMap1G:     2097152 kB\r\n"
     ]
    }
   ],
   "source": [
    "!cat /proc/meminfo"
   ]
  },
  {
   "cell_type": "markdown",
   "metadata": {},
   "source": [
    "When I ran this there was almost 33GB of memory on the server but only 12GB is free, clearly fam and bim are also memory hogs. It may be different for your particular server."
   ]
  },
  {
   "cell_type": "markdown",
   "metadata": {},
   "source": [
    "To handle these hardware demands we are going to set up a simple little cluster computer."
   ]
  },
  {
   "cell_type": "code",
   "execution_count": 23,
   "metadata": {},
   "outputs": [],
   "source": [
    "%%capture daskInstallOutput\n",
    "!pip install dask distributed --upgrade --user;"
   ]
  },
  {
   "cell_type": "code",
   "execution_count": 24,
   "metadata": {},
   "outputs": [
    {
     "data": {
      "text/html": [
       "<table style=\"border: 2px solid white;\">\n",
       "<tr>\n",
       "<td style=\"vertical-align: top; border: 0px solid white\">\n",
       "<h3>Client</h3>\n",
       "<ul>\n",
       "  <li><b>Scheduler: </b>tcp://127.0.0.1:36879\n",
       "  <li><b>Dashboard: </b><a href='http://127.0.0.1:41620/status' target='_blank'>http://127.0.0.1:41620/status</a>\n",
       "</ul>\n",
       "</td>\n",
       "<td style=\"vertical-align: top; border: 0px solid white\">\n",
       "<h3>Cluster</h3>\n",
       "<ul>\n",
       "  <li><b>Workers: </b>8</li>\n",
       "  <li><b>Cores: </b>8</li>\n",
       "  <li><b>Memory: </b>33.74 GB</li>\n",
       "</ul>\n",
       "</td>\n",
       "</tr>\n",
       "</table>"
      ],
      "text/plain": [
       "<Client: scheduler='tcp://127.0.0.1:36879' processes=8 cores=8>"
      ]
     },
     "execution_count": 24,
     "metadata": {},
     "output_type": "execute_result"
    }
   ],
   "source": [
    "from dask.distributed import Client\n",
    "client = Client()\n",
    "client"
   ]
  },
  {
   "cell_type": "markdown",
   "metadata": {},
   "source": [
    "If anything goes wrong you can run `client.restart()` to reset the the client.\n",
    "\n",
    "This cluster will be needed in order to run calculations on the bed file without crashing the kernel (we make the servers fairly robust so don't worry too much about breaking them). You can see the dask docs for use cases."
   ]
  },
  {
   "cell_type": "code",
   "execution_count": 25,
   "metadata": {},
   "outputs": [
    {
     "data": {
      "text/html": [
       "<b>Future: finalize</b> <font color=\"gray\">status: </font><font color=\"black\">pending</font>, <font color=\"gray\">key: </font>finalize-cb32d4ab2c736a97497f5ab725bce5d4"
      ],
      "text/plain": [
       "<Future: status: pending, key: finalize-cb32d4ab2c736a97497f5ab725bce5d4>"
      ]
     },
     "execution_count": 25,
     "metadata": {},
     "output_type": "execute_result"
    }
   ],
   "source": [
    "client.compute(G)"
   ]
  },
  {
   "cell_type": "markdown",
   "metadata": {},
   "source": [
    "### Cytokine File\n",
    "This file is apparently a csv however it is actually an excel file. Much easier to load in and work with than the PLINK files.\n",
    "\n",
    "The column names are fairly standard and easy to google if you want to know what they represent.\n",
    "\n",
    "It seems like the dataset is quite sparse but what is actually happening is that they did not collect information on all of the patients. Remove the patients whose values are all NaN and remove them from the PLINK dataset as well."
   ]
  },
  {
   "cell_type": "code",
   "execution_count": 3,
   "metadata": {},
   "outputs": [],
   "source": [
    "import pandas as pd\n",
    "dfCytokine = pd.read_excel(\"RogerDonaldson-SepsisPatientCytokineLevels.xlsx\")"
   ]
  },
  {
   "cell_type": "code",
   "execution_count": 5,
   "metadata": {},
   "outputs": [
    {
     "data": {
      "text/html": [
       "<div>\n",
       "<style scoped>\n",
       "    .dataframe tbody tr th:only-of-type {\n",
       "        vertical-align: middle;\n",
       "    }\n",
       "\n",
       "    .dataframe tbody tr th {\n",
       "        vertical-align: top;\n",
       "    }\n",
       "\n",
       "    .dataframe thead th {\n",
       "        text-align: right;\n",
       "    }\n",
       "</style>\n",
       "<table border=\"1\" class=\"dataframe\">\n",
       "  <thead>\n",
       "    <tr style=\"text-align: right;\">\n",
       "      <th></th>\n",
       "      <th>SampleNumber</th>\n",
       "      <th>EGF</th>\n",
       "      <th>FGF2</th>\n",
       "      <th>EOTAXIN</th>\n",
       "      <th>TGFA</th>\n",
       "      <th>GCSF</th>\n",
       "      <th>FLT3L</th>\n",
       "      <th>GMCSF</th>\n",
       "      <th>FRACTALKINE</th>\n",
       "      <th>IFNA2</th>\n",
       "      <th>...</th>\n",
       "      <th>IL1a_HW</th>\n",
       "      <th>IL8_HW</th>\n",
       "      <th>MIP1a_HW</th>\n",
       "      <th>MIP1b_HW</th>\n",
       "      <th>MMP8_HW</th>\n",
       "      <th>Elastase2_HW</th>\n",
       "      <th>Lactoferrin_HW</th>\n",
       "      <th>NGAL_HW</th>\n",
       "      <th>Resistin_HW</th>\n",
       "      <th>Thrombospondin1_HW</th>\n",
       "    </tr>\n",
       "  </thead>\n",
       "  <tbody>\n",
       "    <tr>\n",
       "      <th>0</th>\n",
       "      <td>VB0004</td>\n",
       "      <td>NaN</td>\n",
       "      <td>NaN</td>\n",
       "      <td>NaN</td>\n",
       "      <td>NaN</td>\n",
       "      <td>NaN</td>\n",
       "      <td>NaN</td>\n",
       "      <td>NaN</td>\n",
       "      <td>NaN</td>\n",
       "      <td>NaN</td>\n",
       "      <td>...</td>\n",
       "      <td>NaN</td>\n",
       "      <td>NaN</td>\n",
       "      <td>NaN</td>\n",
       "      <td>NaN</td>\n",
       "      <td>NaN</td>\n",
       "      <td>NaN</td>\n",
       "      <td>NaN</td>\n",
       "      <td>NaN</td>\n",
       "      <td>NaN</td>\n",
       "      <td>NaN</td>\n",
       "    </tr>\n",
       "    <tr>\n",
       "      <th>1</th>\n",
       "      <td>VB0253</td>\n",
       "      <td>NaN</td>\n",
       "      <td>NaN</td>\n",
       "      <td>NaN</td>\n",
       "      <td>NaN</td>\n",
       "      <td>NaN</td>\n",
       "      <td>NaN</td>\n",
       "      <td>NaN</td>\n",
       "      <td>NaN</td>\n",
       "      <td>NaN</td>\n",
       "      <td>...</td>\n",
       "      <td>NaN</td>\n",
       "      <td>NaN</td>\n",
       "      <td>NaN</td>\n",
       "      <td>NaN</td>\n",
       "      <td>NaN</td>\n",
       "      <td>NaN</td>\n",
       "      <td>NaN</td>\n",
       "      <td>NaN</td>\n",
       "      <td>NaN</td>\n",
       "      <td>NaN</td>\n",
       "    </tr>\n",
       "    <tr>\n",
       "      <th>2</th>\n",
       "      <td>VB0908</td>\n",
       "      <td>9.0</td>\n",
       "      <td>21.0</td>\n",
       "      <td>63.0</td>\n",
       "      <td>2.0</td>\n",
       "      <td>33.0</td>\n",
       "      <td>3.0</td>\n",
       "      <td>11.0</td>\n",
       "      <td>8.0</td>\n",
       "      <td>15.0</td>\n",
       "      <td>...</td>\n",
       "      <td>1.64</td>\n",
       "      <td>309.74</td>\n",
       "      <td>67.63</td>\n",
       "      <td>157.83</td>\n",
       "      <td>16893.25</td>\n",
       "      <td>185785.83</td>\n",
       "      <td>424733.41</td>\n",
       "      <td>454712.34</td>\n",
       "      <td>81794.05</td>\n",
       "      <td>424193.04</td>\n",
       "    </tr>\n",
       "    <tr>\n",
       "      <th>3</th>\n",
       "      <td>VB0971</td>\n",
       "      <td>NaN</td>\n",
       "      <td>NaN</td>\n",
       "      <td>NaN</td>\n",
       "      <td>NaN</td>\n",
       "      <td>NaN</td>\n",
       "      <td>NaN</td>\n",
       "      <td>NaN</td>\n",
       "      <td>NaN</td>\n",
       "      <td>NaN</td>\n",
       "      <td>...</td>\n",
       "      <td>NaN</td>\n",
       "      <td>NaN</td>\n",
       "      <td>NaN</td>\n",
       "      <td>NaN</td>\n",
       "      <td>NaN</td>\n",
       "      <td>NaN</td>\n",
       "      <td>NaN</td>\n",
       "      <td>NaN</td>\n",
       "      <td>NaN</td>\n",
       "      <td>NaN</td>\n",
       "    </tr>\n",
       "    <tr>\n",
       "      <th>4</th>\n",
       "      <td>VB0787</td>\n",
       "      <td>19.0</td>\n",
       "      <td>49.0</td>\n",
       "      <td>33.0</td>\n",
       "      <td>2.0</td>\n",
       "      <td>1780.0</td>\n",
       "      <td>4.0</td>\n",
       "      <td>37.0</td>\n",
       "      <td>141.0</td>\n",
       "      <td>31.0</td>\n",
       "      <td>...</td>\n",
       "      <td>NaN</td>\n",
       "      <td>NaN</td>\n",
       "      <td>NaN</td>\n",
       "      <td>NaN</td>\n",
       "      <td>NaN</td>\n",
       "      <td>NaN</td>\n",
       "      <td>NaN</td>\n",
       "      <td>NaN</td>\n",
       "      <td>NaN</td>\n",
       "      <td>NaN</td>\n",
       "    </tr>\n",
       "  </tbody>\n",
       "</table>\n",
       "<p>5 rows × 52 columns</p>\n",
       "</div>"
      ],
      "text/plain": [
       "  SampleNumber   EGF  FGF2  EOTAXIN  TGFA    GCSF  FLT3L  GMCSF  FRACTALKINE  \\\n",
       "0       VB0004   NaN   NaN      NaN   NaN     NaN    NaN    NaN          NaN   \n",
       "1       VB0253   NaN   NaN      NaN   NaN     NaN    NaN    NaN          NaN   \n",
       "2       VB0908   9.0  21.0     63.0   2.0    33.0    3.0   11.0          8.0   \n",
       "3       VB0971   NaN   NaN      NaN   NaN     NaN    NaN    NaN          NaN   \n",
       "4       VB0787  19.0  49.0     33.0   2.0  1780.0    4.0   37.0        141.0   \n",
       "\n",
       "   IFNA2         ...          IL1a_HW  IL8_HW  MIP1a_HW  MIP1b_HW   MMP8_HW  \\\n",
       "0    NaN         ...              NaN     NaN       NaN       NaN       NaN   \n",
       "1    NaN         ...              NaN     NaN       NaN       NaN       NaN   \n",
       "2   15.0         ...             1.64  309.74     67.63    157.83  16893.25   \n",
       "3    NaN         ...              NaN     NaN       NaN       NaN       NaN   \n",
       "4   31.0         ...              NaN     NaN       NaN       NaN       NaN   \n",
       "\n",
       "   Elastase2_HW  Lactoferrin_HW    NGAL_HW  Resistin_HW  Thrombospondin1_HW  \n",
       "0           NaN             NaN        NaN          NaN                 NaN  \n",
       "1           NaN             NaN        NaN          NaN                 NaN  \n",
       "2     185785.83       424733.41  454712.34     81794.05           424193.04  \n",
       "3           NaN             NaN        NaN          NaN                 NaN  \n",
       "4           NaN             NaN        NaN          NaN                 NaN  \n",
       "\n",
       "[5 rows x 52 columns]"
      ]
     },
     "execution_count": 5,
     "metadata": {},
     "output_type": "execute_result"
    }
   ],
   "source": [
    "dfCytokine.head()"
   ]
  },
  {
   "cell_type": "markdown",
   "metadata": {},
   "source": [
    "## Using Extra Software\n",
    " If you want to install extra programs ([snptest](https://mathgen.stats.ox.ac.uk/genetics_software/snptest/snptest.html#download), [impute2](http://mathgen.stats.ox.ac.uk/impute/impute_v2.html), [metasoft](http://genetics.cs.ucla.edu/meta/), for example) to use in the notebook make sure they are compatible with the server's OS and Distro:"
   ]
  },
  {
   "cell_type": "code",
   "execution_count": null,
   "metadata": {},
   "outputs": [],
   "source": [
    "!cat /etc/*-release "
   ]
  },
  {
   "cell_type": "markdown",
   "metadata": {},
   "source": [
    "You can access the command line for installations and other activities by putting a `!` at the beginning of the line, as seen above. You can also use the Jupyter magic `%%bash` to cover an entire cell:"
   ]
  },
  {
   "cell_type": "code",
   "execution_count": null,
   "metadata": {},
   "outputs": [],
   "source": [
    "%%bash\n",
    "cd ~/\n",
    "ls"
   ]
  },
  {
   "cell_type": "markdown",
   "metadata": {},
   "source": [
    "## Using PLINK Software"
   ]
  },
  {
   "cell_type": "markdown",
   "metadata": {},
   "source": [
    "I already installed plink on the server. For some reason it is called \"plink1\" rather than \"plink\". The link they give to the docs is broken. Here are the actual docs: http://zzz.bwh.harvard.edu/plink/"
   ]
  },
  {
   "cell_type": "code",
   "execution_count": 1,
   "metadata": {},
   "outputs": [
    {
     "name": "stdout",
     "output_type": "stream",
     "text": [
      "\r\n",
      "@----------------------------------------------------------@\r\n",
      "|        PLINK!       |     v1.07      |   10/Aug/2009     |\r\n",
      "|----------------------------------------------------------|\r\n",
      "|  (C) 2009 Shaun Purcell, GNU General Public License, v2  |\r\n",
      "|----------------------------------------------------------|\r\n",
      "|  For documentation, citation & bug-report instructions:  |\r\n",
      "|        http://pngu.mgh.harvard.edu/purcell/plink/        |\r\n",
      "@----------------------------------------------------------@\r\n",
      "\r\n",
      "Skipping web check... [ --noweb ] \r\n",
      "Writing this text to log file [ plink.log ]\r\n",
      "Analysis started: Fri Jun  1 20:25:56 2018\r\n",
      "\r\n",
      "Options in effect:\r\n",
      "\t--noweb\r\n",
      "\t--bfile Roger Donaldson - VASST2\r\n",
      "\r\n",
      "\r\n",
      "ERROR: No file [ Roger Donaldson - VASST2.fam ] exists.\r\n"
     ]
    }
   ],
   "source": [
    "!plink1 --noweb --bfile \"Roger Donaldson - VASST2\""
   ]
  },
  {
   "cell_type": "code",
   "execution_count": null,
   "metadata": {},
   "outputs": [],
   "source": []
  }
 ],
 "metadata": {
  "kernelspec": {
   "display_name": "Python 3",
   "language": "python",
   "name": "python3"
  },
  "language_info": {
   "codemirror_mode": {
    "name": "ipython",
    "version": 3
   },
   "file_extension": ".py",
   "mimetype": "text/x-python",
   "name": "python",
   "nbconvert_exporter": "python",
   "pygments_lexer": "ipython3",
   "version": "3.6.5"
  }
 },
 "nbformat": 4,
 "nbformat_minor": 2
}
